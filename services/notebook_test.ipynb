{
 "cells": [
  {
   "cell_type": "markdown",
   "id": "1e6b922f",
   "metadata": {},
   "source": [
    "# Notebook test"
   ]
  },
  {
   "cell_type": "markdown",
   "id": "1969fcce",
   "metadata": {},
   "source": [
    "## PDF"
   ]
  },
  {
   "cell_type": "code",
   "execution_count": 30,
   "id": "1f549215",
   "metadata": {},
   "outputs": [],
   "source": [
    "import os\n",
    "import pymupdf\n",
    "import fitz\n",
    "\n",
    "def create_example_pdf(file_path, file_name):\n",
    "    \"\"\"\n",
    "    Create an example PDF file for testing purposes.\n",
    "    \"\"\"\n",
    "    doc = fitz.open()\n",
    "    long_text = \"\"\"\n",
    "    Titanic, dirigida por James Cameron, es una épica historia de amor y tragedia ambientada en el viaje inaugural del famoso transatlántico británico RMS Titanic, que se hundió tras chocar contra un iceberg en la madrugada del 15 de abril de 1912. La película combina hechos históricos con una narrativa ficticia protagonizada por Jack Dawson y Rose DeWitt Bukater, dos jóvenes de diferentes clases sociales cuyas vidas se cruzan a bordo del barco. La historia comienza en el presente, cuando un cazador de tesoros, Brock Lovett, explora los restos del Titanic en busca de un valioso diamante conocido como el \"Corazón del Océano\". Durante la expedición, encuentran un dibujo de una mujer desnuda usando el collar, fechado el 14 de abril de 1912. La mujer del retrato, Rose Dawson Calvert, una anciana sobreviviente del desastre, ve la imagen en las noticias y contacta al equipo para contar su historia. A través de su relato, se remonta a 1912, cuando Rose, una joven de 17 años de clase alta, viaja en primera clase con su prometido, Cal Hockley, y su controladora madre Ruth. Rose se siente atrapada en una vida sin libertad, forzada a casarse con Cal para asegurar la estabilidad financiera de su familia. En un momento de desesperación, Rose intenta suicidarse lanzándose por la popa del Titanic, pero es salvada por Jack Dawson, un artista pobre que viaja en tercera clase gracias a un pasaje que ganó en una partida de cartas. A pesar de sus diferencias sociales, Jack y Rose comienzan a conocerse y enamorarse. Jack le muestra a Rose una vida de libertad, pasión y autenticidad, mientras ella le abre su mundo refinado y le ofrece amor. Su relación se ve constantemente amenazada por Cal, quien es posesivo y manipulador, y por la estricta madre de Rose, que desprecia a Jack por su clase social. La historia romántica alcanza su punto culminante cuando Jack dibuja a Rose desnuda usando solo el “Corazón del Océano”, y luego huyen por el barco celebrando su amor. Pero esa misma noche, el Titanic choca con un iceberg. El barco comienza a hundirse lentamente, y el caos se desata. A medida que la tragedia se intensifica, los personajes luchan por sobrevivir: Jack y Rose navegan por las entrañas del barco inundado, mientras Cal intenta separarlos y asegurar su propia salvación. Finalmente, Rose logra subirse a una balsa salvavidas, pero salta de vuelta al barco para quedarse con Jack. Ambos terminan en el agua helada, pero solo ella sobrevive tras ser rescatada. Jack muere congelado, sacrificándose para que ella tenga una oportunidad de vivir. En el presente, Rose lanza el \"Corazón del Océano\" al mar, dejándolo hundido junto a los restos del Titanic. Titanic no solo retrata una historia de amor trágico, sino también un poderoso retrato de clases sociales, valentía, pérdida y memoria. Con efectos visuales innovadores y una emotiva banda sonora, la película se convirtió en un fenómeno cultural y sigue siendo uno de los mayores éxitos del cine moderno.\n",
    "    \"\"\"\n",
    "    rect = fitz.Rect(72, 72, 540, 800)\n",
    "    font_size = 12\n",
    "    max_chars_per_page = 3200\n",
    "\n",
    "    for i in range(0, len(long_text), max_chars_per_page):\n",
    "        page = doc.new_page()\n",
    "        chunk = long_text[i:i+max_chars_per_page]\n",
    "        page.insert_textbox(rect, chunk, fontsize=font_size, fontname=\"helv\", color=(0, 0, 0))\n",
    "\n",
    "    doc.save(os.path.join(file_path, file_name))\n",
    "    doc.close()\n",
    "    \n",
    "create_example_pdf(\"./pdf/\", \"example.pdf\")"
   ]
  },
  {
   "cell_type": "code",
   "execution_count": null,
   "id": "82650bd1",
   "metadata": {},
   "outputs": [
    {
     "name": "stdout",
     "output_type": "stream",
     "text": [
      "{\n",
      "    \"name\": \"example.pdf\",\n",
      "    \"path\": \"./pdf/example.pdf\",\n",
      "    \"extension\": \"pdf\",\n",
      "    \"content\": \"Titanic, dirigida por James Cameron, es una épica historia de amor y tragedia ambientada en el viaje inaugural del famoso transatlántico británico RMS Titanic, que se hundió tras chocar contra un iceberg en la madrugada del 15 de abril de 1912. La película combina hechos históricos con una narrativa ficticia protagonizada por Jack Dawson y Rose DeWitt Bukater, dos jóvenes de diferentes clases sociales cuyas vidas se cruzan a bordo del barco. La historia comienza en el presente, cuando un cazador de tesoros, Brock Lovett, explora los restos del Titanic en busca de un valioso diamante conocido como el \\\"Corazón del Océano\\\". Durante la expedición, encuentran un dibujo de una mujer desnuda usando el collar, fechado el 14 de abril de 1912. La mujer del retrato, Rose Dawson Calvert, una anciana sobreviviente del desastre, ve la imagen en las noticias y contacta al equipo para contar su historia. A través de su relato, se remonta a 1912, cuando Rose, una joven de 17 años de clase alta, viaja en primera clase con su prometido, Cal Hockley, y su controladora madre Ruth. Rose se siente atrapada en una vida sin libertad, forzada a casarse con Cal para asegurar la estabilidad financiera de su familia. En un momento de desesperación, Rose intenta suicidarse lanzándose por la popa del Titanic, pero es salvada por Jack Dawson, un artista pobre que viaja en tercera clase gracias a un pasaje que ganó en una partida de cartas. A pesar de sus diferencias sociales, Jack y Rose comienzan a conocerse y enamorarse. Jack le muestra a Rose una vida de libertad, pasión y autenticidad, mientras ella le abre su mundo refinado y le ofrece amor. Su relación se ve constantemente amenazada por Cal, quien es posesivo y manipulador, y por la estricta madre de Rose, que desprecia a Jack por su clase social. La historia romántica alcanza su punto culminante cuando Jack dibuja a Rose desnuda usando solo el ?Corazón del Océano?, y luego huyen por el barco celebrando su amor. Pero esa misma noche, el Titanic choca con un iceberg. El barco comienza a hundirse lentamente, y el caos se desata. A medida que la tragedia se intensifica, los personajes luchan por sobrevivir: Jack y Rose navegan por las entrañas del barco inundado, mientras Cal intenta separarlos y asegurar su propia salvación. Finalmente, Rose logra subirse a una balsa salvavidas, pero salta de vuelta al barco para quedarse con Jack. Ambos terminan en el agua helada, pero solo ella sobrevive tras ser rescatada. Jack muere congelado, sacrificándose para que ella tenga una oportunidad de vivir. En el presente, Rose lanza el \\\"Corazón del Océano\\\" al mar, dejándolo hundido junto a los restos del Titanic. Titanic no solo retrata una historia de amor trágico, sino también un poderoso retrato de clases sociales, valentía, pérdida y memoria. Con efectos visuales innovadores y una emotiva banda sonora, la película se convirtió en un fenómeno cultural y sigue siendo uno de los mayores éxitos del cine moderno.\",\n",
      "    \"size_bytes\": 2878\n",
      "}\n"
     ]
    }
   ],
   "source": [
    "import os\n",
    "import json\n",
    "import fitz as pymupdf  # Asegúrate de tener PyMuPDF instalado\n",
    "\n",
    "def load(self, file_path, file_name):\n",
    "    \"\"\"\n",
    "    Load the content from the specified PDF file path.\n",
    "    :param file_path: The path to the PDF file to be loaded.\n",
    "    :param file_name: The name of the PDF file to be loaded.\n",
    "    :return: A dictionary containing the file name, path, extension, content, and size in bytes.\n",
    "    \"\"\"\n",
    "    full_path = os.path.join(file_path, file_name)\n",
    "    with pymupdf.open(full_path) as doc_obj:\n",
    "        text = chr(12).join([page.get_text() for page in doc_obj])\n",
    "        doc = {\n",
    "            \"name\": file_name,\n",
    "            \"path\": full_path,\n",
    "            \"extension\": \"pdf\",\n",
    "            \"content\": text.strip().replace(\"\\n\", \" \"),\n",
    "            \"size_bytes\": os.path.getsize(full_path)\n",
    "        }\n",
    "    return doc\n",
    "\n",
    "file_path = \"./pdf/\"\n",
    "file_name = \"example.pdf\"\n",
    "doc = load(file_path, file_name)\n",
    "\n",
    "# Guardar en archivo JSON ordenado\n",
    "output_path = \"./pdf/example.json\"\n",
    "with open(output_path, \"w\", encoding=\"utf-8\") as f:\n",
    "    json.dump(doc, f, ensure_ascii=False, indent=4)\n",
    "\n",
    "# Imprimir por consola (formateado)\n",
    "print(json.dumps(doc, ensure_ascii=False, indent=4))\n"
   ]
  },
  {
   "cell_type": "markdown",
   "id": "f09e87af",
   "metadata": {},
   "source": [
    "## DOCX"
   ]
  },
  {
   "cell_type": "code",
   "execution_count": 2,
   "id": "80a059b9",
   "metadata": {},
   "outputs": [
    {
     "name": "stdout",
     "output_type": "stream",
     "text": [
      "{\n",
      "    \"name\": \"example.docx\",\n",
      "    \"path\": \"./docx/example.docx\",\n",
      "    \"extension\": \"docx\",\n",
      "    \"content\": \"Titanic, dirigida por James Cameron, es una épica historia de amor y tragedia ambientada en el viaje inaugural del famoso transatlántico británico RMS Titanic, que se hundió tras chocar contra un iceberg en la madrugada del 15 de abril de 1912. La película combina hechos históricos con una narrativa ficticia protagonizada por Jack Dawson y Rose DeWitt Bukater, dos jóvenes de diferentes clases sociales cuyas vidas se cruzan a bordo del barco. La historia comienza en el presente, cuando un cazador de tesoros, Brock Lovett, explora los restos del Titanic en busca de un valioso diamante conocido como el \\\"Corazón del Océano\\\". Durante la expedición, encuentran un dibujo de una mujer desnuda usando el collar, fechado el 14 de abril de 1912. La mujer del retrato, Rose Dawson Calvert, una anciana sobreviviente del desastre, ve la imagen en las noticias y contacta al equipo para contar su historia. A través de su relato, se remonta a 1912, cuando Rose, una joven de 17 años de clase alta, viaja en primera clase con su prometido, Cal Hockley, y su controladora madre Ruth. Rose se siente atrapada en una vida sin libertad, forzada a casarse con Cal para asegurar la estabilidad financiera de su familia. En un momento de desesperación, Rose intenta suicidarse lanzándose por la popa del Titanic, pero es salvada por Jack Dawson, un artista pobre que viaja en tercera clase gracias a un pasaje que ganó en una partida de cartas. A pesar de sus diferencias sociales, Jack y Rose comienzan a conocerse y enamorarse. Jack le muestra a Rose una vida de libertad, pasión y autenticidad, mientras ella le abre su mundo refinado y le ofrece amor. Su relación se ve constantemente amenazada por Cal, quien es posesivo y manipulador, y por la estricta madre de Rose, que desprecia a Jack por su clase social. La historia romántica alcanza su punto culminante cuando Jack dibuja a Rose desnuda usando solo el “Corazón del Océano”, y luego huyen por el barco celebrando su amor. Pero esa misma noche, el Titanic choca con un iceberg. El barco comienza a hundirse lentamente, y el caos se desata. A medida que la tragedia se intensifica, los personajes luchan por sobrevivir: Jack y Rose navegan por las entrañas del barco inundado, mientras Cal intenta separarlos y asegurar su propia salvación. Finalmente, Rose logra subirse a una balsa salvavidas, pero salta de vuelta al barco para quedarse con Jack. Ambos terminan en el agua helada, pero solo ella sobrevive tras ser rescatada. Jack muere congelado, sacrificándose para que ella tenga una oportunidad de vivir. En el presente, Rose lanza el \\\"Corazón del Océano\\\" al mar, dejándolo hundido junto a los restos del Titanic. Titanic no solo retrata una historia de amor trágico, sino también un poderoso retrato de clases sociales, valentía, pérdida y memoria. Con efectos visuales innovadores y una emotiva banda sonora, la película se convirtió en un fenómeno cultural y sigue siendo uno de los mayores éxitos del cine moderno.\",\n",
      "    \"size_bytes\": 15056\n",
      "}\n"
     ]
    }
   ],
   "source": [
    "from docx_loader import DOCXLoader\n",
    "import json\n",
    "\n",
    "file_path = \"./docx/\"\n",
    "file_name = \"example.docx\"\n",
    "docx_loader = DOCXLoader()\n",
    "doc = docx_loader.load(file_path, file_name)\n",
    "output_path = \"./docx/example.json\"\n",
    "with open(output_path, \"w\", encoding=\"utf-8\") as f:\n",
    "    json.dump(doc, f, ensure_ascii=False, indent=4)\n",
    "\n",
    "# Imprimir por consola (formateado)\n",
    "print(json.dumps(doc, ensure_ascii=False, indent=4))"
   ]
  },
  {
   "cell_type": "markdown",
   "id": "10a692e3",
   "metadata": {},
   "source": [
    "## Markdown"
   ]
  },
  {
   "cell_type": "code",
   "execution_count": 3,
   "id": "3b4dd87c",
   "metadata": {},
   "outputs": [
    {
     "name": "stdout",
     "output_type": "stream",
     "text": [
      "{\n",
      "    \"name\": \"example.md\",\n",
      "    \"path\": \"./md/example.md\",\n",
      "    \"extension\": \"md\",\n",
      "    \"content\": \"Titanic, dirigida por James Cameron, es una épica historia de amor y tragedia ambientada en el viaje inaugural del famoso transatlántico británico RMS Titanic, que se hundió tras chocar contra un iceberg en la madrugada del 15 de abril de 1912. La película combina hechos históricos con una narrativa ficticia protagonizada por Jack Dawson y Rose DeWitt Bukater, dos jóvenes de diferentes clases sociales cuyas vidas se cruzan a bordo del barco. La historia comienza en el presente, cuando un cazador de tesoros, Brock Lovett, explora los restos del Titanic en busca de un valioso diamante conocido como el \\\\\\\"Corazón del Océano\\\\\\\". Durante la expedición, encuentran un dibujo de una mujer desnuda usando el collar, fechado el 14 de abril de 1912. La mujer del retrato, Rose Dawson Calvert, una anciana sobreviviente del desastre, ve la imagen en las noticias y contacta al equipo para contar su historia. A través de su relato, se remonta a 1912, cuando Rose, una joven de 17 años de clase alta, viaja en primera clase con su prometido, Cal Hockley, y su controladora madre Ruth. Rose se siente atrapada en una vida sin libertad, forzada a casarse con Cal para asegurar la estabilidad financiera de su familia. En un momento de desesperación, Rose intenta suicidarse lanzándose por la popa del Titanic, pero es salvada por Jack Dawson, un artista pobre que viaja en tercera clase gracias a un pasaje que ganó en una partida de cartas. A pesar de sus diferencias sociales, Jack y Rose comienzan a conocerse y enamorarse. Jack le muestra a Rose una vida de libertad, pasión y autenticidad, mientras ella le abre su mundo refinado y le ofrece amor. Su relación se ve constantemente amenazada por Cal, quien es posesivo y manipulador, y por la estricta madre de Rose, que desprecia a Jack por su clase social. La historia romántica alcanza su punto culminante cuando Jack dibuja a Rose desnuda usando solo el “Corazón del Océano”, y luego huyen por el barco celebrando su amor. Pero esa misma noche, el Titanic choca con un iceberg. El barco comienza a hundirse lentamente, y el caos se desata. A medida que la tragedia se intensifica, los personajes luchan por sobrevivir: Jack y Rose navegan por las entrañas del barco inundado, mientras Cal intenta separarlos y asegurar su propia salvación. Finalmente, Rose logra subirse a una balsa salvavidas, pero salta de vuelta al barco para quedarse con Jack. Ambos terminan en el agua helada, pero solo ella sobrevive tras ser rescatada. Jack muere congelado, sacrificándose para que ella tenga una oportunidad de vivir. En el presente, Rose lanza el \\\\\\\"Corazón del Océano\\\\\\\" al mar, dejándolo hundido junto a los restos del Titanic. Titanic no solo retrata una historia de amor trágico, sino también un poderoso retrato de clases sociales, valentía, pérdida y memoria. Con efectos visuales innovadores y una emotiva banda sonora, la película se convirtió en un fenómeno cultural y sigue siendo uno de los mayores éxitos del cine moderno.\",\n",
      "    \"size_bytes\": 3015\n",
      "}\n"
     ]
    }
   ],
   "source": [
    "from markdown_loader import MarkdownLoader\n",
    "import json\n",
    "\n",
    "file_path = \"./md/\"\n",
    "file_name = \"example.md\"\n",
    "markdown_loader = MarkdownLoader()\n",
    "doc = markdown_loader.load(file_path, file_name)\n",
    "output_path = \"./md/example.json\"\n",
    "with open(output_path, \"w\", encoding=\"utf-8\") as f:\n",
    "    json.dump(doc, f, ensure_ascii=False, indent=4)\n",
    "\n",
    "# Imprimir por consola (formateado)\n",
    "print(json.dumps(doc, ensure_ascii=False, indent=4))\n"
   ]
  },
  {
   "cell_type": "markdown",
   "id": "e926002c",
   "metadata": {},
   "source": [
    "## TXT"
   ]
  },
  {
   "cell_type": "code",
   "execution_count": 6,
   "id": "0f2c1cb8",
   "metadata": {},
   "outputs": [
    {
     "name": "stdout",
     "output_type": "stream",
     "text": [
      "{\n",
      "    \"name\": \"example.txt\",\n",
      "    \"path\": \"./txt/example.txt\",\n",
      "    \"extension\": \"txt\",\n",
      "    \"content\": \"Titanic, dirigida por James Cameron, es una épica historia de amor y tragedia ambientada en el viaje inaugural del famoso transatlántico británico RMS Titanic, que se hundió tras chocar contra un iceberg en la madrugada del 15 de abril de 1912. La película combina hechos históricos con una narrativa ficticia protagonizada por Jack Dawson y Rose DeWitt Bukater, dos jóvenes de diferentes clases sociales cuyas vidas se cruzan a bordo del barco. La historia comienza en el presente, cuando un cazador de tesoros, Brock Lovett, explora los restos del Titanic en busca de un valioso diamante conocido como el \\\\\\\"Corazón del Océano\\\\\\\". Durante la expedición, encuentran un dibujo de una mujer desnuda usando el collar, fechado el 14 de abril de 1912. La mujer del retrato, Rose Dawson Calvert, una anciana sobreviviente del desastre, ve la imagen en las noticias y contacta al equipo para contar su historia. A través de su relato, se remonta a 1912, cuando Rose, una joven de 17 años de clase alta, viaja en primera clase con su prometido, Cal Hockley, y su controladora madre Ruth. Rose se siente atrapada en una vida sin libertad, forzada a casarse con Cal para asegurar la estabilidad financiera de su familia. En un momento de desesperación, Rose intenta suicidarse lanzándose por la popa del Titanic, pero es salvada por Jack Dawson, un artista pobre que viaja en tercera clase gracias a un pasaje que ganó en una partida de cartas. A pesar de sus diferencias sociales, Jack y Rose comienzan a conocerse y enamorarse. Jack le muestra a Rose una vida de libertad, pasión y autenticidad, mientras ella le abre su mundo refinado y le ofrece amor. Su relación se ve constantemente amenazada por Cal, quien es posesivo y manipulador, y por la estricta madre de Rose, que desprecia a Jack por su clase social. La historia romántica alcanza su punto culminante cuando Jack dibuja a Rose desnuda usando solo el “Corazón del Océano”, y luego huyen por el barco celebrando su amor. Pero esa misma noche, el Titanic choca con un iceberg. El barco comienza a hundirse lentamente, y el caos se desata. A medida que la tragedia se intensifica, los personajes luchan por sobrevivir: Jack y Rose navegan por las entrañas del barco inundado, mientras Cal intenta separarlos y asegurar su propia salvación. Finalmente, Rose logra subirse a una balsa salvavidas, pero salta de vuelta al barco para quedarse con Jack. Ambos terminan en el agua helada, pero solo ella sobrevive tras ser rescatada. Jack muere congelado, sacrificándose para que ella tenga una oportunidad de vivir. En el presente, Rose lanza el \\\\\\\"Corazón del Océano\\\\\\\" al mar, dejándolo hundido junto a los restos del Titanic. Titanic no solo retrata una historia de amor trágico, sino también un poderoso retrato de clases sociales, valentía, pérdida y memoria. Con efectos visuales innovadores y una emotiva banda sonora, la película se convirtió en un fenómeno cultural y sigue siendo uno de los mayores éxitos del cine moderno.\",\n",
      "    \"size_bytes\": 3015\n",
      "}\n"
     ]
    }
   ],
   "source": [
    "from txt_loader import TXTLoader\n",
    "import json\n",
    "\n",
    "file_path = \"./txt/\"\n",
    "file_name = \"example.txt\"\n",
    "txt_loader = TXTLoader()\n",
    "doc = txt_loader.load(file_path, file_name)\n",
    "output_path = \"./txt/example.json\"\n",
    "with open(output_path, \"w\", encoding=\"utf-8\") as f:\n",
    "    json.dump(doc, f, ensure_ascii=False, indent=4)\n",
    "\n",
    "# Imprimir por consola (formateado)\n",
    "print(json.dumps(doc, ensure_ascii=False, indent=4))"
   ]
  }
 ],
 "metadata": {
  "kernelspec": {
   "display_name": "venv",
   "language": "python",
   "name": "python3"
  },
  "language_info": {
   "codemirror_mode": {
    "name": "ipython",
    "version": 3
   },
   "file_extension": ".py",
   "mimetype": "text/x-python",
   "name": "python",
   "nbconvert_exporter": "python",
   "pygments_lexer": "ipython3",
   "version": "3.12.7"
  }
 },
 "nbformat": 4,
 "nbformat_minor": 5
}
